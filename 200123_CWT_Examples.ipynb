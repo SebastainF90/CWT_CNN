{
 "cells": [
  {
   "cell_type": "code",
   "execution_count": 1,
   "metadata": {},
   "outputs": [
    {
     "name": "stdout",
     "output_type": "stream",
     "text": [
      "FensorFlow version: 2.0.0\n"
     ]
    }
   ],
   "source": [
    "# All Includes\n",
    "import numpy as np\n",
    "import os\n",
    "import matplotlib.pyplot as plt\n",
    "import seaborn as sns\n",
    "from sklearn import metrics\n",
    "from sklearn.decomposition import PCA\n",
    "import xgboost as xgb\n",
    "\n",
    "from skimage.transform import resize\n",
    "\n",
    "from sklearn.metrics import confusion_matrix\n",
    "\n",
    "import pywt\n",
    "\n",
    "import tensorflow as tf\n",
    "print(f\"FensorFlow version: {tf.__version__}\")\n",
    "#import keras (high level API) wiht tensorflow as backend\n",
    "from tensorflow import keras\n",
    "from tensorflow.keras.models import Sequential\n",
    "from tensorflow.keras.layers import Dense, Activation, Flatten\n",
    "from tensorflow.keras.layers import Conv2D, MaxPooling2D\n",
    "from tensorflow.keras.callbacks import ModelCheckpoint"
   ]
  },
  {
   "cell_type": "code",
   "execution_count": 2,
   "metadata": {},
   "outputs": [],
   "source": [
    "def load_y_data(y_path):\n",
    "    y = np.loadtxt(y_path, dtype=np.int32).reshape(-1,1)\n",
    "    # change labels range from 1-6 t 0-5, this enables a sparse_categorical_crossentropy loss function\n",
    "    return y - 1\n",
    "\n",
    "def load_X_data(X_path):\n",
    "    X_signal_paths = [X_path + file for file in os.listdir(X_path)]\n",
    "    X_signals = [np.loadtxt(path, dtype=np.float32) for path in X_signal_paths]\n",
    "    return np.transpose(np.array(X_signals), (1, 2, 0))"
   ]
  },
  {
   "cell_type": "code",
   "execution_count": 3,
   "metadata": {},
   "outputs": [
    {
     "name": "stdout",
     "output_type": "stream",
     "text": [
      "useful information:\n",
      "shapes (n_samples, n_steps, n_signals) of X_train: (7352, 128, 9) and X_test: (2947, 128, 9)\n",
      "all X's have a mean of: 0.10 and a standard derivation of: 0.40 \n"
     ]
    }
   ],
   "source": [
    "PATH = '.../UCI HAR Dataset/'\n",
    "LABEL_NAMES = [\"Walking\", \"Walking upstairs\", \"Walking downstairs\", \"Sitting\", \"Standing\", \"Laying\"]\n",
    "\n",
    "# load X data\n",
    "X_train = load_X_data(PATH + 'train/Inertial Signals/')\n",
    "X_test = load_X_data(PATH + 'test/Inertial Signals/')\n",
    "# load y label\n",
    "y_train = load_y_data(PATH + 'train/y_train.txt')\n",
    "y_test = load_y_data(PATH + 'test/y_test.txt')\n",
    "\n",
    "print(\"useful information:\")\n",
    "print(f\"shapes (n_samples, n_steps, n_signals) of X_train: {X_train.shape} and X_test: {X_test.shape}\")\n",
    "X_all = np.concatenate([X_train, X_test])\n",
    "print(f\"all X's have following mean: {format(X_all.mean(), '.2f')} and standard derivation: {format(X_all.std(), '.2f')} \")"
   ]
  },
  {
   "cell_type": "code",
   "execution_count": 67,
   "metadata": {},
   "outputs": [
    {
     "name": "stdout",
     "output_type": "stream",
     "text": [
      "X_train shape: (7352, 64, 64, 9)\n",
      "y_train shape: (2947, 64, 64, 9)\n"
     ]
    }
   ],
   "source": [
    "import _pickle as cPickle\n",
    "path = 'C:/Users/Sebastian/Documents/GitHub/191102_Time_series_classf/data/Image_data/'\n",
    "\n",
    "X_train_cwt = cPickle.load( open(path + \"X_train_cwt_64_pixel.pkl\", \"rb\" ) )\n",
    "print(f\"X_train shape: {X_train_cwt.shape}\")\n",
    "\n",
    "X_test_cwt = cPickle.load( open(path + \"X_test_cwt_64_pixel.pkl\", \"rb\" ) )\n",
    "print(f\"y_train shape: {X_test_cwt.shape}\")"
   ]
  },
  {
   "cell_type": "code",
   "execution_count": null,
   "metadata": {},
   "outputs": [],
   "source": []
  },
  {
   "cell_type": "code",
   "execution_count": 4,
   "metadata": {},
   "outputs": [],
   "source": [
    "def split_indices_per_label(y):\n",
    "    indicies_per_label = [[] for x in range(0,6)]\n",
    "    # loop over the six labels\n",
    "    for i in range(6): \n",
    "        indicies_per_label[i] = np.where(y == i)[0]\n",
    "    return indicies_per_label\n",
    "\n",
    "# list of list of sample indicies per activity\n",
    "train_labels_indicies = split_indices_per_label(y_train)"
   ]
  },
  {
   "cell_type": "code",
   "execution_count": null,
   "metadata": {},
   "outputs": [],
   "source": [
    "def plot_cwt_coeffs_per_label(X, label_indicies, label_names, signal, sample, scales, wavelet):\n",
    "    \n",
    "    fig, axs = plt.subplots(nrows=2, ncols=3, sharex=True, sharey=True, figsize=(12,5))\n",
    "    \n",
    "    for ax, indices, name in zip(axs.flat, label_indicies, label_names):\n",
    "        coeffs, freqs = pywt.cwt(X[indices[sample],:, signal], scales, wavelet = wavelet)\n",
    "        ax.imshow(coeffs, cmap = 'coolwarm', aspect = 'auto')\n",
    "        ax.set_title(name)\n",
    "        ax.spines['right'].set_visible(False)\n",
    "        ax.spines['top'].set_visible(False)\n",
    "        ax.set_ylabel('Scale')\n",
    "        ax.set_xlabel('Time')\n",
    "    plt.tight_layout()\n",
    "    \n",
    "#signal indicies: 0 = body acc x, 1 = body acc y, 2 = body acc z, 3 = body gyro x, 4 = body gyro y, 5 = body gyro z, 6 = total acc x, 7 = total acc y, 8 = total acc z\n",
    "signal = 3 # signal index\n",
    "sample = 1 # sample index of each label indicies list\n",
    "scales = np.arange(1, 65) # range of scales\n",
    "wavelet = 'morl' # mother wavelet\n",
    "\n",
    "plot_cwt_coeffs_per_label(X_train, train_labels_indicies, LABEL_NAMES, signal, sample, scales, wavelet)"
   ]
  },
  {
   "cell_type": "code",
   "execution_count": null,
   "metadata": {},
   "outputs": [],
   "source": [
    "#signal indicies: 0 = body acc x, 1 = body acc y, 2 = body acc z, 3 = body gyro x, 4 = body gyro y, 5 = body gyro z, 6 = total acc x, 7 = total acc y, 8 = total acc z\n",
    "signal = 8 # signal index\n",
    "sample = 1 # sample index of each label indicies list\n",
    "scales = np.arange(1, 65) # range of scales\n",
    "wavelet = 'morl' # mother wavelet\n",
    "\n",
    "plot_cwt_coeffs_per_label(X_train, train_labels_indicies, LABEL_NAMES, signal, sample, scales, wavelet)"
   ]
  },
  {
   "cell_type": "code",
   "execution_count": 53,
   "metadata": {},
   "outputs": [],
   "source": [
    "def create_cwt_images(X, n_scales, rescale_size, wavelet_name = \"morl\"):\n",
    "    n_samples = X.shape[0] \n",
    "    n_signals = X.shape[2] \n",
    "    \n",
    "    # range of scales from 1 to n_scales\n",
    "    scales = np.arange(1, n_scales + 1) \n",
    "    \n",
    "    # pre allocate array\n",
    "    X_cwt = np.ndarray(shape=(n_samples, rescale_size, rescale_size, n_signals), dtype = 'float32')\n",
    "    \n",
    "    for sample in range(n_samples):\n",
    "        if sample % 1000 == 0:\n",
    "            print(sample)\n",
    "        for signal in range(n_signals):\n",
    "            serie = X[sample, :, signal]\n",
    "            # continuous wavelet transform \n",
    "            coeffs, freqs = pywt.cwt(serie, scales, wavelet_name)\n",
    "            # resize the 2D cwt coeffs\n",
    "            rescale_coeffs = resize(coeffs, (rescale_size, rescale_size), mode = 'constant')\n",
    "            X_cwt[sample,:,:,signal] = rescale_coeffs\n",
    "            \n",
    "    return X_cwt"
   ]
  },
  {
   "cell_type": "code",
   "execution_count": 54,
   "metadata": {},
   "outputs": [
    {
     "name": "stdout",
     "output_type": "stream",
     "text": [
      "0\n",
      "1000\n",
      "2000\n",
      "3000\n",
      "4000\n",
      "5000\n",
      "6000\n",
      "7000\n",
      "0\n",
      "1000\n",
      "2000\n",
      "shapes (n_samples, x_img, y_img, z_img) of X_train_cwt: (7352, 64, 64, 9) and X_test_cwt: (2947, 64, 64, 9)\n"
     ]
    }
   ],
   "source": [
    "# amount of pixels in X and Y \n",
    "rescale_size = 64\n",
    "# determine the max scale size\n",
    "n_scales = 64\n",
    "\n",
    "X_train_cwt = create_cwt_images(X_train, n_scales, rescale_size)\n",
    "print(f\"shapes (n_samples, x_img, y_img, z_img) of X_train_cwt: {X_train_cwt.shape}\")\n",
    "X_test_cwt = create_cwt_images(X_test, n_scales, rescale_size)\n",
    "print(f\"shapes (n_samples, x_img, y_img, z_img) of X_test_cwt: {X_test_cwt.shape}\")"
   ]
  },
  {
   "cell_type": "code",
   "execution_count": 6,
   "metadata": {},
   "outputs": [],
   "source": [
    "def build_cnn_model(activation, input_shape):\n",
    "    model = Sequential()\n",
    "    \n",
    "    # 2 Convolution layer with Max polling\n",
    "    model.add(Conv2D(32, 5, activation = activation, padding = 'same', input_shape = input_shape))\n",
    "    model.add(MaxPooling2D())\n",
    "    model.add(Conv2D(64, 5, activation = activation, padding = 'same', kernel_initializer = \"he_normal\"))\n",
    "    model.add(MaxPooling2D())  \n",
    "    model.add(Flatten())\n",
    "    \n",
    "    # 3 Full connected layer\n",
    "    model.add(Dense(128, activation = activation, kernel_initializer = \"he_normal\"))\n",
    "    model.add(Dense(54, activation = activation, kernel_initializer = \"he_normal\"))\n",
    "    model.add(Dense(6, activation = 'softmax')) # 6 classes\n",
    "    \n",
    "    # summarize the model\n",
    "    print(model.summary())\n",
    "    return model"
   ]
  },
  {
   "cell_type": "code",
   "execution_count": 7,
   "metadata": {},
   "outputs": [],
   "source": [
    "def compile_and_fit_model(model, X_train, y_train, X_test, y_test, batch_size, n_epochs):\n",
    "\n",
    "    # compile the model\n",
    "    model.compile(\n",
    "        optimizer=tf.keras.optimizers.Adam(),\n",
    "        loss='sparse_categorical_crossentropy',\n",
    "        metrics=['sparse_categorical_accuracy'])\n",
    "    \n",
    "    # define callbacks\n",
    "    callbacks = [ModelCheckpoint(filepath='best_model.h5', monitor='val_sparse_categorical_accuracy', save_best_only=True)]\n",
    "    \n",
    "    # fit the model\n",
    "    history = model.fit(x=X_train,\n",
    "                        y=y_train,\n",
    "                        batch_size=batch_size,\n",
    "                        epochs=n_epochs,\n",
    "                        verbose=1,\n",
    "                        callbacks=callbacks,\n",
    "                        validation_data=(X_test, y_test))\n",
    "    \n",
    "    return model, history"
   ]
  },
  {
   "cell_type": "code",
   "execution_count": 8,
   "metadata": {
    "scrolled": true
   },
   "outputs": [
    {
     "name": "stdout",
     "output_type": "stream",
     "text": [
      "Model: \"sequential\"\n",
      "_________________________________________________________________\n",
      "Layer (type)                 Output Shape              Param #   \n",
      "=================================================================\n",
      "conv2d (Conv2D)              (None, 64, 64, 32)        7232      \n",
      "_________________________________________________________________\n",
      "max_pooling2d (MaxPooling2D) (None, 32, 32, 32)        0         \n",
      "_________________________________________________________________\n",
      "conv2d_1 (Conv2D)            (None, 32, 32, 64)        51264     \n",
      "_________________________________________________________________\n",
      "max_pooling2d_1 (MaxPooling2 (None, 16, 16, 64)        0         \n",
      "_________________________________________________________________\n",
      "flatten (Flatten)            (None, 16384)             0         \n",
      "_________________________________________________________________\n",
      "dense (Dense)                (None, 128)               2097280   \n",
      "_________________________________________________________________\n",
      "dense_1 (Dense)              (None, 54)                6966      \n",
      "_________________________________________________________________\n",
      "dense_2 (Dense)              (None, 6)                 330       \n",
      "=================================================================\n",
      "Total params: 2,163,072\n",
      "Trainable params: 2,163,072\n",
      "Non-trainable params: 0\n",
      "_________________________________________________________________\n",
      "None\n",
      "Train on 7352 samples, validate on 2947 samples\n",
      "Epoch 1/10\n",
      "7352/7352 [==============================] - 122s 17ms/sample - loss: 1.0380 - sparse_categorical_accuracy: 0.6567 - val_loss: 0.3116 - val_sparse_categorical_accuracy: 0.8717\n",
      "Epoch 2/10\n",
      "7352/7352 [==============================] - 118s 16ms/sample - loss: 0.1593 - sparse_categorical_accuracy: 0.9355 - val_loss: 0.2237 - val_sparse_categorical_accuracy: 0.9209\n",
      "Epoch 3/10\n",
      "7352/7352 [==============================] - 119s 16ms/sample - loss: 0.1423 - sparse_categorical_accuracy: 0.9404 - val_loss: 0.2510 - val_sparse_categorical_accuracy: 0.9002\n",
      "Epoch 4/10\n",
      "7352/7352 [==============================] - 116s 16ms/sample - loss: 0.1161 - sparse_categorical_accuracy: 0.9517 - val_loss: 0.1899 - val_sparse_categorical_accuracy: 0.9267\n",
      "Epoch 5/10\n",
      "7352/7352 [==============================] - 116s 16ms/sample - loss: 0.1060 - sparse_categorical_accuracy: 0.9542 - val_loss: 0.1739 - val_sparse_categorical_accuracy: 0.9257\n",
      "Epoch 6/10\n",
      "7352/7352 [==============================] - 116s 16ms/sample - loss: 0.1003 - sparse_categorical_accuracy: 0.9554 - val_loss: 0.1719 - val_sparse_categorical_accuracy: 0.9311\n",
      "Epoch 7/10\n",
      "7352/7352 [==============================] - 109s 15ms/sample - loss: 0.0977 - sparse_categorical_accuracy: 0.9546 - val_loss: 0.1672 - val_sparse_categorical_accuracy: 0.9321\n",
      "Epoch 8/10\n",
      "7352/7352 [==============================] - 111s 15ms/sample - loss: 0.0924 - sparse_categorical_accuracy: 0.9574 - val_loss: 0.1554 - val_sparse_categorical_accuracy: 0.9335\n",
      "Epoch 9/10\n",
      "7352/7352 [==============================] - 114s 16ms/sample - loss: 0.0858 - sparse_categorical_accuracy: 0.9629 - val_loss: 0.1342 - val_sparse_categorical_accuracy: 0.9410\n",
      "Epoch 10/10\n",
      "7352/7352 [==============================] - 113s 15ms/sample - loss: 0.0821 - sparse_categorical_accuracy: 0.9629 - val_loss: 0.1409 - val_sparse_categorical_accuracy: 0.9491\n"
     ]
    }
   ],
   "source": [
    "# shape of the input images\n",
    "input_shape = (X_train_cwt.shape[1], X_train_cwt.shape[2], X_train_cwt.shape[3])\n",
    "\n",
    "# create cnn model\n",
    "cnn_model = build_cnn_model(\"relu\", input_shape)\n",
    "# train cnn model\n",
    "#trained_cnn_model, cnn_history = compile_and_fit_model(cnn_model, X_train_cwt, y_train, X_test_cwt, y_test, 368, 10)"
   ]
  },
  {
   "cell_type": "code",
   "execution_count": 9,
   "metadata": {},
   "outputs": [
    {
     "data": {
      "image/png": "[encoded data removed]",
      "text/plain": [
       "<Figure size 864x360 with 2 Axes>"
      ]
     },
     "metadata": {
      "needs_background": "light"
     },
     "output_type": "display_data"
    }
   ],
   "source": [
    "def plot_model_performance_curves(history):\n",
    "    fig = plt.figure(figsize=(12,5))\n",
    "\n",
    "    # plot Cross Entropy loss\n",
    "    ax = fig.add_subplot(121)\n",
    "    ax.plot(history.history['loss'], color='dodgerblue', label='train loss')\n",
    "    ax.plot(history.history['val_loss'], color = 'deepskyblue', label='val loss')\n",
    "    ax.legend()\n",
    "    ax.set_title('Learning Curves')\n",
    "    ax.set_ylabel('Cross Entropy')\n",
    "    ax.set_xlabel('Epoch')\n",
    "    ax.spines['right'].set_visible(False)\n",
    "    ax.spines['top'].set_visible(False)\n",
    "\n",
    "    # plot classification accuracy\n",
    "    ax = fig.add_subplot(122)\n",
    "    ax.plot(history.history['sparse_categorical_accuracy'], color='dodgerblue', label='train accuracy')\n",
    "    ax.plot(history.history['val_sparse_categorical_accuracy'], color = 'deepskyblue', label='val accuracy')\n",
    "    ax.legend()\n",
    "    ax.set_title('Accuracy Curves')\n",
    "    ax.set_ylabel('Categorical Accuracy')\n",
    "    ax.set_xlabel('Epoche')\n",
    "    ax.spines['right'].set_visible(False)\n",
    "    ax.spines['top'].set_visible(False)\n",
    "    plt.tight_layout()\n",
    "    plt.show()\n",
    "\n",
    "\n",
    "plot_model_performance_curves(cnn_history)"
   ]
  },
  {
   "cell_type": "code",
   "execution_count": 68,
   "metadata": {},
   "outputs": [
    {
     "name": "stdout",
     "output_type": "stream",
     "text": [
      "Accuracy: 94.91%\n"
     ]
    },
    {
     "data": {
      "image/png": "[encoded data removed]",
      "text/plain": [
       "<Figure size 504x504 with 1 Axes>"
      ]
     },
     "metadata": {
      "needs_background": "light"
     },
     "output_type": "display_data"
    }
   ],
   "source": [
    "def create_confusion_matrix(y_pred, y_test):    \n",
    "    #calculate the confusion matrix\n",
    "    confmat = confusion_matrix(y_true=y_test, y_pred=y_pred)\n",
    "    \n",
    "    fig, ax = plt.subplots(figsize=(7,7))\n",
    "    ax.imshow(confmat, cmap=plt.cm.Blues, alpha=0.5)\n",
    "\n",
    "    n_labels = len(LABEL_NAMES)\n",
    "    ax.set_xticks(np.arange(n_labels))\n",
    "    ax.set_yticks(np.arange(n_labels))\n",
    "    ax.set_xticklabels(LABEL_NAMES)\n",
    "    ax.set_yticklabels(LABEL_NAMES)\n",
    "\n",
    "    # rotate the tick labels and set their alignment.\n",
    "    plt.setp(ax.get_xticklabels(), rotation=45, ha=\"right\", rotation_mode=\"anchor\")\n",
    "    # loop over data dimensions and create text annotations.\n",
    "    for i in range(confmat.shape[0]):\n",
    "        for j in range(confmat.shape[1]):\n",
    "            ax.text(x=i, y=j, s=confmat[i, j], va='center', ha='center')\n",
    "    \n",
    "    # avoid that the first and last row cut in half\n",
    "    bottom, top = ax.get_ylim()\n",
    "    ax.set_ylim(bottom + 0.5, top - 0.5)\n",
    "    \n",
    "    ax.set_title(\"Confusion Matrix\")\n",
    "    ax.set_xlabel('Predicted Label')\n",
    "    ax.set_ylabel('True Label')\n",
    "\n",
    "    plt.tight_layout()\n",
    "    plt.show()\n",
    "\n",
    "# make predictions for test data\n",
    "y_pred = trained_cnn_model.predict_classes(X_test_cwt)\n",
    "# determine the total accuracy \n",
    "accuracy = metrics.accuracy_score(y_test, y_pred)\n",
    "print(\"Accuracy: %.2f%%\" % (accuracy * 100.0))\n",
    "\n",
    "create_confusion_matrix(y_pred, y_test)"
   ]
  },
  {
   "cell_type": "code",
   "execution_count": null,
   "metadata": {},
   "outputs": [],
   "source": []
  },
  {
   "cell_type": "code",
   "execution_count": null,
   "metadata": {},
   "outputs": [],
   "source": []
  },
  {
   "cell_type": "code",
   "execution_count": 71,
   "metadata": {},
   "outputs": [],
   "source": [
    "def pca_of_cwt_coeffs(X, n_scales, wavelet_name=\"morl\"):\n",
    "    # apply PCA for just a single component to get the most significant coefficient per scale\n",
    "    pca = PCA(n_components = 1)\n",
    "    # create range of scales\n",
    "    scales = np.arange(1, n_scales + 1)\n",
    "    \n",
    "    X_pca = np.array([])  \n",
    "    for signal in range(X.shape[2]):\n",
    "        pca_comps = np.empty((0, n_scales),dtype='float32')\n",
    "        for sample in range(X.shape[0]):\n",
    "            coeffs, freqs = pywt.cwt(X[sample, :, signal], scales, wavelet_name)    \n",
    "            pca_comps = np.vstack([pca_comps, pca.fit_transform(coeffs).flatten()]) \n",
    "                    \n",
    "        if signal == 0:\n",
    "            X_pca = pca_comps\n",
    "        else:\n",
    "            X_pca = np.concatenate((X_pca, pca_comps), axis=1)\n",
    "            \n",
    "    return X_pca"
   ]
  },
  {
   "cell_type": "code",
   "execution_count": 72,
   "metadata": {},
   "outputs": [
    {
     "name": "stdout",
     "output_type": "stream",
     "text": [
      "shapes (n_samples, n_comps) of X_train_pca: (7352, 576)\n",
      "shapes (n_samples, n_comps) of X_test_pca: (2947, 576)\n"
     ]
    }
   ],
   "source": [
    "# define the scale size\n",
    "n_scales = 64\n",
    "\n",
    "X_train_pca = pca_of_cwt_coeffs(X_train, n_scales)\n",
    "print(f\"shapes (n_samples, n_comps) of X_train_pca: {X_train_pca.shape}\")\n",
    "X_test_pca = pca_of_cwt_coeffs(X_test, n_scales)\n",
    "print(f\"shapes (n_samples, n_comps) of X_test_pca: {X_test_pca.shape}\")"
   ]
  },
  {
   "cell_type": "code",
   "execution_count": 49,
   "metadata": {},
   "outputs": [],
   "source": [
    "def build_and_fit_xgb_model(X_train, y_train, X_test, y_test, n_depth, subsample, n_estimators):\n",
    "    xgb_model = xgb.XGBClassifier(max_depth=n_depth, \n",
    "                              objective='multi:softmax', # error evaluation for multiclass training\n",
    "                              num_class=6, \n",
    "                              subsample=subsample, # randomly selected fraction of training samples that will be used to train each tree.\n",
    "                              n_estimators=n_estimators) \n",
    "    eval_set = [(X_train, y_train), (X_test, y_test)]\n",
    "    history = xgb_model.fit(X_train, y_train, eval_metric=[\"merror\"], eval_set=eval_set,verbose=True)\n",
    "    return xgb_model, history"
   ]
  },
  {
   "cell_type": "code",
   "execution_count": 57,
   "metadata": {},
   "outputs": [
    {
     "name": "stdout",
     "output_type": "stream",
     "text": [
      "[0]\tvalidation_0-merror:0.093716\tvalidation_1-merror:0.162878\n",
      "[1]\tvalidation_0-merror:0.082699\tvalidation_1-merror:0.153376\n",
      "[2]\tvalidation_0-merror:0.079978\tvalidation_1-merror:0.141161\n",
      "[3]\tvalidation_0-merror:0.074538\tvalidation_1-merror:0.137767\n",
      "[4]\tvalidation_0-merror:0.072361\tvalidation_1-merror:0.131999\n",
      "[5]\tvalidation_0-merror:0.072905\tvalidation_1-merror:0.131659\n",
      "[6]\tvalidation_0-merror:0.069233\tvalidation_1-merror:0.128266\n",
      "[7]\tvalidation_0-merror:0.067601\tvalidation_1-merror:0.123515\n",
      "[8]\tvalidation_0-merror:0.067057\tvalidation_1-merror:0.123855\n",
      "[9]\tvalidation_0-merror:0.065968\tvalidation_1-merror:0.122837\n",
      "[10]\tvalidation_0-merror:0.066104\tvalidation_1-merror:0.124873\n",
      "[11]\tvalidation_0-merror:0.066376\tvalidation_1-merror:0.124194\n",
      "[12]\tvalidation_0-merror:0.064744\tvalidation_1-merror:0.122158\n",
      "[13]\tvalidation_0-merror:0.063928\tvalidation_1-merror:0.117747\n",
      "[14]\tvalidation_0-merror:0.062976\tvalidation_1-merror:0.117747\n",
      "[15]\tvalidation_0-merror:0.062568\tvalidation_1-merror:0.118765\n",
      "[16]\tvalidation_0-merror:0.061616\tvalidation_1-merror:0.117747\n",
      "[17]\tvalidation_0-merror:0.061208\tvalidation_1-merror:0.117068\n",
      "[18]\tvalidation_0-merror:0.06012\tvalidation_1-merror:0.117408\n",
      "[19]\tvalidation_0-merror:0.058896\tvalidation_1-merror:0.118426\n",
      "[20]\tvalidation_0-merror:0.057535\tvalidation_1-merror:0.115032\n",
      "[21]\tvalidation_0-merror:0.057263\tvalidation_1-merror:0.114014\n",
      "[22]\tvalidation_0-merror:0.055767\tvalidation_1-merror:0.112657\n",
      "[23]\tvalidation_0-merror:0.056175\tvalidation_1-merror:0.111978\n",
      "[24]\tvalidation_0-merror:0.055495\tvalidation_1-merror:0.112657\n",
      "[25]\tvalidation_0-merror:0.054543\tvalidation_1-merror:0.11096\n",
      "[26]\tvalidation_0-merror:0.053999\tvalidation_1-merror:0.109942\n",
      "[27]\tvalidation_0-merror:0.052503\tvalidation_1-merror:0.11096\n",
      "[28]\tvalidation_0-merror:0.051143\tvalidation_1-merror:0.109603\n",
      "[29]\tvalidation_0-merror:0.049238\tvalidation_1-merror:0.107906\n",
      "[30]\tvalidation_0-merror:0.049238\tvalidation_1-merror:0.107906\n",
      "[31]\tvalidation_0-merror:0.048286\tvalidation_1-merror:0.107906\n",
      "[32]\tvalidation_0-merror:0.046518\tvalidation_1-merror:0.105531\n",
      "[33]\tvalidation_0-merror:0.046246\tvalidation_1-merror:0.105192\n",
      "[34]\tvalidation_0-merror:0.045566\tvalidation_1-merror:0.102477\n",
      "[35]\tvalidation_0-merror:0.043934\tvalidation_1-merror:0.101459\n",
      "[36]\tvalidation_0-merror:0.043526\tvalidation_1-merror:0.10078\n",
      "[37]\tvalidation_0-merror:0.042437\tvalidation_1-merror:0.098405\n",
      "[38]\tvalidation_0-merror:0.041621\tvalidation_1-merror:0.100102\n",
      "[39]\tvalidation_0-merror:0.040669\tvalidation_1-merror:0.099762\n",
      "[40]\tvalidation_0-merror:0.039445\tvalidation_1-merror:0.097727\n",
      "[41]\tvalidation_0-merror:0.037677\tvalidation_1-merror:0.097048\n",
      "[42]\tvalidation_0-merror:0.037133\tvalidation_1-merror:0.098405\n",
      "[43]\tvalidation_0-merror:0.035773\tvalidation_1-merror:0.099084\n",
      "[44]\tvalidation_0-merror:0.035092\tvalidation_1-merror:0.098405\n",
      "[45]\tvalidation_0-merror:0.034684\tvalidation_1-merror:0.097727\n",
      "[46]\tvalidation_0-merror:0.033324\tvalidation_1-merror:0.097387\n",
      "[47]\tvalidation_0-merror:0.031692\tvalidation_1-merror:0.096369\n",
      "[48]\tvalidation_0-merror:0.031556\tvalidation_1-merror:0.095012\n",
      "[49]\tvalidation_0-merror:0.030196\tvalidation_1-merror:0.093315\n",
      "[50]\tvalidation_0-merror:0.029788\tvalidation_1-merror:0.093315\n",
      "[51]\tvalidation_0-merror:0.029108\tvalidation_1-merror:0.093315\n",
      "[52]\tvalidation_0-merror:0.0287\tvalidation_1-merror:0.092976\n",
      "[53]\tvalidation_0-merror:0.027339\tvalidation_1-merror:0.091279\n",
      "[54]\tvalidation_0-merror:0.027067\tvalidation_1-merror:0.09094\n",
      "[55]\tvalidation_0-merror:0.025979\tvalidation_1-merror:0.09094\n",
      "[56]\tvalidation_0-merror:0.025299\tvalidation_1-merror:0.09094\n",
      "[57]\tvalidation_0-merror:0.024483\tvalidation_1-merror:0.090601\n",
      "[58]\tvalidation_0-merror:0.024211\tvalidation_1-merror:0.090601\n",
      "[59]\tvalidation_0-merror:0.023667\tvalidation_1-merror:0.090601\n",
      "[60]\tvalidation_0-merror:0.023395\tvalidation_1-merror:0.088565\n",
      "[61]\tvalidation_0-merror:0.022715\tvalidation_1-merror:0.088225\n",
      "[62]\tvalidation_0-merror:0.021763\tvalidation_1-merror:0.087547\n",
      "[63]\tvalidation_0-merror:0.021491\tvalidation_1-merror:0.088565\n",
      "[64]\tvalidation_0-merror:0.020811\tvalidation_1-merror:0.088225\n",
      "[65]\tvalidation_0-merror:0.020131\tvalidation_1-merror:0.087207\n",
      "[66]\tvalidation_0-merror:0.019859\tvalidation_1-merror:0.086868\n",
      "[67]\tvalidation_0-merror:0.019314\tvalidation_1-merror:0.08585\n",
      "[68]\tvalidation_0-merror:0.019178\tvalidation_1-merror:0.084832\n",
      "[69]\tvalidation_0-merror:0.019042\tvalidation_1-merror:0.084493\n",
      "[70]\tvalidation_0-merror:0.018226\tvalidation_1-merror:0.084493\n",
      "[71]\tvalidation_0-merror:0.017546\tvalidation_1-merror:0.085511\n",
      "[72]\tvalidation_0-merror:0.017002\tvalidation_1-merror:0.083814\n",
      "[73]\tvalidation_0-merror:0.016322\tvalidation_1-merror:0.084832\n",
      "[74]\tvalidation_0-merror:0.01605\tvalidation_1-merror:0.084493\n",
      "[75]\tvalidation_0-merror:0.015506\tvalidation_1-merror:0.084832\n",
      "[76]\tvalidation_0-merror:0.015098\tvalidation_1-merror:0.083814\n",
      "[77]\tvalidation_0-merror:0.014146\tvalidation_1-merror:0.083814\n",
      "[78]\tvalidation_0-merror:0.013602\tvalidation_1-merror:0.084153\n",
      "[79]\tvalidation_0-merror:0.01265\tvalidation_1-merror:0.083475\n",
      "[80]\tvalidation_0-merror:0.013194\tvalidation_1-merror:0.083135\n",
      "[81]\tvalidation_0-merror:0.012786\tvalidation_1-merror:0.081778\n",
      "[82]\tvalidation_0-merror:0.012242\tvalidation_1-merror:0.082117\n",
      "[83]\tvalidation_0-merror:0.01197\tvalidation_1-merror:0.081778\n",
      "[84]\tvalidation_0-merror:0.011561\tvalidation_1-merror:0.082796\n",
      "[85]\tvalidation_0-merror:0.010881\tvalidation_1-merror:0.081778\n",
      "[86]\tvalidation_0-merror:0.010609\tvalidation_1-merror:0.082117\n",
      "[87]\tvalidation_0-merror:0.010201\tvalidation_1-merror:0.081778\n",
      "[88]\tvalidation_0-merror:0.009929\tvalidation_1-merror:0.081099\n",
      "[89]\tvalidation_0-merror:0.009657\tvalidation_1-merror:0.082457\n",
      "[90]\tvalidation_0-merror:0.009249\tvalidation_1-merror:0.082457\n",
      "[91]\tvalidation_0-merror:0.009113\tvalidation_1-merror:0.082796\n",
      "[92]\tvalidation_0-merror:0.008705\tvalidation_1-merror:0.082117\n",
      "[93]\tvalidation_0-merror:0.008297\tvalidation_1-merror:0.081099\n",
      "[94]\tvalidation_0-merror:0.007889\tvalidation_1-merror:0.082117\n",
      "[95]\tvalidation_0-merror:0.007889\tvalidation_1-merror:0.082796\n",
      "[96]\tvalidation_0-merror:0.007209\tvalidation_1-merror:0.082457\n",
      "[97]\tvalidation_0-merror:0.007209\tvalidation_1-merror:0.082457\n",
      "[98]\tvalidation_0-merror:0.007073\tvalidation_1-merror:0.081778\n",
      "[99]\tvalidation_0-merror:0.006937\tvalidation_1-merror:0.081439\n",
      "[100]\tvalidation_0-merror:0.006937\tvalidation_1-merror:0.081439\n",
      "[101]\tvalidation_0-merror:0.006937\tvalidation_1-merror:0.081099\n",
      "[102]\tvalidation_0-merror:0.006393\tvalidation_1-merror:0.080421\n",
      "[103]\tvalidation_0-merror:0.006665\tvalidation_1-merror:0.079742\n",
      "[104]\tvalidation_0-merror:0.005985\tvalidation_1-merror:0.079063\n",
      "[105]\tvalidation_0-merror:0.005849\tvalidation_1-merror:0.080081\n",
      "[106]\tvalidation_0-merror:0.005849\tvalidation_1-merror:0.079063\n",
      "[107]\tvalidation_0-merror:0.005305\tvalidation_1-merror:0.079742\n",
      "[108]\tvalidation_0-merror:0.005169\tvalidation_1-merror:0.079063\n",
      "[109]\tvalidation_0-merror:0.005033\tvalidation_1-merror:0.079063\n",
      "[110]\tvalidation_0-merror:0.004489\tvalidation_1-merror:0.080081\n",
      "[111]\tvalidation_0-merror:0.004625\tvalidation_1-merror:0.079742\n",
      "[112]\tvalidation_0-merror:0.004761\tvalidation_1-merror:0.080081\n",
      "[113]\tvalidation_0-merror:0.004489\tvalidation_1-merror:0.08076\n",
      "[114]\tvalidation_0-merror:0.004217\tvalidation_1-merror:0.081099\n",
      "[115]\tvalidation_0-merror:0.004217\tvalidation_1-merror:0.081439\n",
      "[116]\tvalidation_0-merror:0.004217\tvalidation_1-merror:0.081439\n",
      "[117]\tvalidation_0-merror:0.004081\tvalidation_1-merror:0.081099\n",
      "[118]\tvalidation_0-merror:0.004081\tvalidation_1-merror:0.08076\n",
      "[119]\tvalidation_0-merror:0.003672\tvalidation_1-merror:0.080081\n",
      "[120]\tvalidation_0-merror:0.003808\tvalidation_1-merror:0.080421\n",
      "[121]\tvalidation_0-merror:0.003536\tvalidation_1-merror:0.079063\n",
      "[122]\tvalidation_0-merror:0.003945\tvalidation_1-merror:0.079742\n",
      "[123]\tvalidation_0-merror:0.0034\tvalidation_1-merror:0.078724\n",
      "[124]\tvalidation_0-merror:0.003264\tvalidation_1-merror:0.079742\n",
      "[125]\tvalidation_0-merror:0.002992\tvalidation_1-merror:0.080421\n",
      "[126]\tvalidation_0-merror:0.003128\tvalidation_1-merror:0.079403\n",
      "[127]\tvalidation_0-merror:0.00272\tvalidation_1-merror:0.078385\n",
      "[128]\tvalidation_0-merror:0.002856\tvalidation_1-merror:0.078385\n",
      "[129]\tvalidation_0-merror:0.002584\tvalidation_1-merror:0.078385\n",
      "[130]\tvalidation_0-merror:0.002584\tvalidation_1-merror:0.078724\n"
     ]
    },
    {
     "name": "stdout",
     "output_type": "stream",
     "text": [
      "[131]\tvalidation_0-merror:0.002312\tvalidation_1-merror:0.079063\n",
      "[132]\tvalidation_0-merror:0.00204\tvalidation_1-merror:0.078724\n",
      "[133]\tvalidation_0-merror:0.001768\tvalidation_1-merror:0.078385\n",
      "[134]\tvalidation_0-merror:0.001632\tvalidation_1-merror:0.078385\n",
      "[135]\tvalidation_0-merror:0.001632\tvalidation_1-merror:0.078385\n",
      "[136]\tvalidation_0-merror:0.001632\tvalidation_1-merror:0.078045\n",
      "[137]\tvalidation_0-merror:0.001496\tvalidation_1-merror:0.077706\n",
      "[138]\tvalidation_0-merror:0.000952\tvalidation_1-merror:0.077706\n",
      "[139]\tvalidation_0-merror:0.001224\tvalidation_1-merror:0.076688\n",
      "[140]\tvalidation_0-merror:0.001224\tvalidation_1-merror:0.077367\n",
      "[141]\tvalidation_0-merror:0.001224\tvalidation_1-merror:0.077706\n",
      "[142]\tvalidation_0-merror:0.00136\tvalidation_1-merror:0.077367\n",
      "[143]\tvalidation_0-merror:0.001088\tvalidation_1-merror:0.078045\n",
      "[144]\tvalidation_0-merror:0.000952\tvalidation_1-merror:0.078045\n",
      "[145]\tvalidation_0-merror:0.000952\tvalidation_1-merror:0.078385\n",
      "[146]\tvalidation_0-merror:0.000816\tvalidation_1-merror:0.078045\n",
      "[147]\tvalidation_0-merror:0.000816\tvalidation_1-merror:0.077367\n",
      "[148]\tvalidation_0-merror:0.000816\tvalidation_1-merror:0.077706\n",
      "[149]\tvalidation_0-merror:0.000544\tvalidation_1-merror:0.077367\n",
      "[150]\tvalidation_0-merror:0.000544\tvalidation_1-merror:0.077706\n",
      "[151]\tvalidation_0-merror:0.000408\tvalidation_1-merror:0.077367\n",
      "[152]\tvalidation_0-merror:0.000272\tvalidation_1-merror:0.077367\n",
      "[153]\tvalidation_0-merror:0.000272\tvalidation_1-merror:0.077706\n",
      "[154]\tvalidation_0-merror:0.000272\tvalidation_1-merror:0.078385\n",
      "[155]\tvalidation_0-merror:0.000272\tvalidation_1-merror:0.077706\n",
      "[156]\tvalidation_0-merror:0.000272\tvalidation_1-merror:0.076688\n",
      "[157]\tvalidation_0-merror:0.000136\tvalidation_1-merror:0.07601\n",
      "[158]\tvalidation_0-merror:0.000272\tvalidation_1-merror:0.07567\n",
      "[159]\tvalidation_0-merror:0.000136\tvalidation_1-merror:0.075331\n",
      "[160]\tvalidation_0-merror:0.000136\tvalidation_1-merror:0.076349\n",
      "[161]\tvalidation_0-merror:0.000136\tvalidation_1-merror:0.07567\n",
      "[162]\tvalidation_0-merror:0.000136\tvalidation_1-merror:0.075331\n",
      "[163]\tvalidation_0-merror:0.000136\tvalidation_1-merror:0.074652\n",
      "[164]\tvalidation_0-merror:0.000136\tvalidation_1-merror:0.073974\n",
      "[165]\tvalidation_0-merror:0.000136\tvalidation_1-merror:0.073974\n",
      "[166]\tvalidation_0-merror:0.000136\tvalidation_1-merror:0.074313\n",
      "[167]\tvalidation_0-merror:0.000136\tvalidation_1-merror:0.073634\n",
      "[168]\tvalidation_0-merror:0.000136\tvalidation_1-merror:0.073974\n",
      "[169]\tvalidation_0-merror:0.000136\tvalidation_1-merror:0.073634\n",
      "[170]\tvalidation_0-merror:0.000136\tvalidation_1-merror:0.073295\n",
      "[171]\tvalidation_0-merror:0.000136\tvalidation_1-merror:0.073974\n",
      "[172]\tvalidation_0-merror:0.000136\tvalidation_1-merror:0.073295\n",
      "[173]\tvalidation_0-merror:0.000136\tvalidation_1-merror:0.073974\n",
      "[174]\tvalidation_0-merror:0.000136\tvalidation_1-merror:0.073295\n",
      "[175]\tvalidation_0-merror:0.000136\tvalidation_1-merror:0.073974\n",
      "[176]\tvalidation_0-merror:0.000136\tvalidation_1-merror:0.073974\n",
      "[177]\tvalidation_0-merror:0.000136\tvalidation_1-merror:0.074313\n",
      "[178]\tvalidation_0-merror:0.000136\tvalidation_1-merror:0.073634\n",
      "[179]\tvalidation_0-merror:0.000136\tvalidation_1-merror:0.072616\n",
      "[180]\tvalidation_0-merror:0.000136\tvalidation_1-merror:0.073634\n",
      "[181]\tvalidation_0-merror:0.000136\tvalidation_1-merror:0.075331\n",
      "[182]\tvalidation_0-merror:0.000136\tvalidation_1-merror:0.073974\n",
      "[183]\tvalidation_0-merror:0\tvalidation_1-merror:0.073295\n",
      "[184]\tvalidation_0-merror:0\tvalidation_1-merror:0.073974\n",
      "[185]\tvalidation_0-merror:0\tvalidation_1-merror:0.073634\n",
      "[186]\tvalidation_0-merror:0\tvalidation_1-merror:0.074652\n",
      "[187]\tvalidation_0-merror:0\tvalidation_1-merror:0.073974\n",
      "[188]\tvalidation_0-merror:0\tvalidation_1-merror:0.073634\n",
      "[189]\tvalidation_0-merror:0\tvalidation_1-merror:0.074652\n",
      "[190]\tvalidation_0-merror:0\tvalidation_1-merror:0.074313\n",
      "[191]\tvalidation_0-merror:0\tvalidation_1-merror:0.074652\n",
      "[192]\tvalidation_0-merror:0\tvalidation_1-merror:0.073974\n",
      "[193]\tvalidation_0-merror:0\tvalidation_1-merror:0.073974\n",
      "[194]\tvalidation_0-merror:0\tvalidation_1-merror:0.072956\n",
      "[195]\tvalidation_0-merror:0\tvalidation_1-merror:0.073974\n",
      "[196]\tvalidation_0-merror:0\tvalidation_1-merror:0.073295\n",
      "[197]\tvalidation_0-merror:0\tvalidation_1-merror:0.073634\n",
      "[198]\tvalidation_0-merror:0\tvalidation_1-merror:0.073295\n",
      "[199]\tvalidation_0-merror:0\tvalidation_1-merror:0.073295\n"
     ]
    }
   ],
   "source": [
    "#4 and 0.5\n",
    "trained_xgb_model, xgb_history = build_and_fit_xgb_model(X_train_pca, y_train, X_test_pca, y_test, 4, 0.5, 200)"
   ]
  },
  {
   "cell_type": "code",
   "execution_count": 63,
   "metadata": {},
   "outputs": [
    {
     "name": "stdout",
     "output_type": "stream",
     "text": [
      "Accuracy: 92.67%\n"
     ]
    },
    {
     "data": {
      "image/png": "[encoded data removed]",
      "text/plain": [
       "<Figure size 504x504 with 1 Axes>"
      ]
     },
     "metadata": {
      "needs_background": "light"
     },
     "output_type": "display_data"
    }
   ],
   "source": [
    "# make predictions for test data\n",
    "y_pred = trained_xgb_model.predict(X_test_pca)\n",
    "# determine the total accuracy \n",
    "accuracy = metrics.accuracy_score(y_test, y_pred)\n",
    "print(\"Accuracy: %.2f%%\" % (accuracy * 100.0))\n",
    "\n",
    "create_confusion_matrix(y_pred, y_test)"
   ]
  },
  {
   "cell_type": "code",
   "execution_count": null,
   "metadata": {},
   "outputs": [],
   "source": []
  }
 ],
 "metadata": {
  "kernelspec": {
   "display_name": "Python 3",
   "language": "python",
   "name": "python3"
  },
  "language_info": {
   "codemirror_mode": {
    "name": "ipython",
    "version": 3
   },
   "file_extension": ".py",
   "mimetype": "text/x-python",
   "name": "python",
   "nbconvert_exporter": "python",
   "pygments_lexer": "ipython3",
   "version": "3.7.4"
  }
 },
 "nbformat": 4,
 "nbformat_minor": 2
}
